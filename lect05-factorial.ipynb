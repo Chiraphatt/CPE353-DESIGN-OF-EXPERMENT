{
 "cells": [
  {
   "cell_type": "markdown",
   "metadata": {},
   "source": [
    "# Factorial Design"
   ]
  },
  {
   "cell_type": "markdown",
   "metadata": {
    "toc": true
   },
   "source": [
    "<h1>Table of Contents<span class=\"tocSkip\"></span></h1>\n",
    "<div class=\"toc\"><ul class=\"toc-item\"><li><span><a href=\"#Two-Factor-ANOVA\" data-toc-modified-id=\"Two-Factor-ANOVA-1\"><span class=\"toc-item-num\">1&nbsp;&nbsp;</span>Two-Factor ANOVA</a></span><ul class=\"toc-item\"><li><span><a href=\"#Load-Battery-Data\" data-toc-modified-id=\"Load-Battery-Data-1.1\"><span class=\"toc-item-num\">1.1&nbsp;&nbsp;</span>Load Battery Data</a></span></li><li><span><a href=\"#Model-fitting-and-ANOVA-table\" data-toc-modified-id=\"Model-fitting-and-ANOVA-table-1.2\"><span class=\"toc-item-num\">1.2&nbsp;&nbsp;</span>Model fitting and ANOVA table</a></span></li><li><span><a href=\"#Interaction-plot\" data-toc-modified-id=\"Interaction-plot-1.3\"><span class=\"toc-item-num\">1.3&nbsp;&nbsp;</span>Interaction plot</a></span></li><li><span><a href=\"#Model-assumption-check\" data-toc-modified-id=\"Model-assumption-check-1.4\"><span class=\"toc-item-num\">1.4&nbsp;&nbsp;</span>Model assumption check</a></span></li><li><span><a href=\"#Tukey-HSD-Test-for-specific-factor-level\" data-toc-modified-id=\"Tukey-HSD-Test-for-specific-factor-level-1.5\"><span class=\"toc-item-num\">1.5&nbsp;&nbsp;</span>Tukey HSD Test for specific factor level</a></span><ul class=\"toc-item\"><li><span><a href=\"#Compute-margin-error-for-C.I.\" data-toc-modified-id=\"Compute-margin-error-for-C.I.-1.5.1\"><span class=\"toc-item-num\">1.5.1&nbsp;&nbsp;</span>Compute margin error for C.I.</a></span></li></ul></li><li><span><a href=\"#Your-Turn----Activity-II:-Missile-System-and-Propellant-Type\" data-toc-modified-id=\"Your-Turn----Activity-II:-Missile-System-and-Propellant-Type-1.6\"><span class=\"toc-item-num\">1.6&nbsp;&nbsp;</span>Your Turn -- Activity II: Missile System and Propellant Type</a></span></li></ul></li><li><span><a href=\"#Three-factor-ANOVA\" data-toc-modified-id=\"Three-factor-ANOVA-2\"><span class=\"toc-item-num\">2&nbsp;&nbsp;</span>Three-factor ANOVA</a></span><ul class=\"toc-item\"><li><span><a href=\"#Load-data-and-fit-model\" data-toc-modified-id=\"Load-data-and-fit-model-2.1\"><span class=\"toc-item-num\">2.1&nbsp;&nbsp;</span>Load data and fit model</a></span></li><li><span><a href=\"#Main-and-interaction-effect-plots\" data-toc-modified-id=\"Main-and-interaction-effect-plots-2.2\"><span class=\"toc-item-num\">2.2&nbsp;&nbsp;</span>Main and interaction effect plots</a></span></li><li><span><a href=\"#Your-Turn----Activity-III:-Exercise-Tolerance\" data-toc-modified-id=\"Your-Turn----Activity-III:-Exercise-Tolerance-2.3\"><span class=\"toc-item-num\">2.3&nbsp;&nbsp;</span>Your Turn -- Activity III: Exercise Tolerance</a></span></li></ul></li></ul></div>"
   ]
  },
  {
   "cell_type": "code",
   "execution_count": 1,
   "metadata": {},
   "outputs": [
    {
     "name": "stdout",
     "output_type": "stream",
     "text": [
      "\n",
      "Enabling interactive shell outputs ...\n",
      "   Use command pass; to disable cell text outputs\n"
     ]
    }
   ],
   "source": [
    "print('\\nEnabling interactive shell outputs ...')\n",
    "print('   Use command pass; to disable cell text outputs')\n",
    "from IPython.core.interactiveshell import InteractiveShell\n",
    "InteractiveShell.ast_node_interactivity = \"all\"\n",
    "\n",
    "import warnings\n",
    "warnings.filterwarnings('ignore') \n",
    "warnings.simplefilter(action=\"ignore\",category=UserWarning)\n",
    "warnings.simplefilter(action=\"ignore\",category=FutureWarning)\n",
    "\n",
    "import pandas as pd \n",
    "import numpy as np\n",
    "import matplotlib.pyplot as plt\n",
    "import seaborn as sns\n",
    "from scipy import stats\n",
    "import statsmodels.api as sm\n",
    "\n",
    "\n",
    "\n",
    "%matplotlib inline\n",
    "%config InlineBackend.figure_formats = {'png', 'retina'}"
   ]
  },
  {
   "cell_type": "markdown",
   "metadata": {},
   "source": [
    "## Two-Factor ANOVA"
   ]
  },
  {
   "cell_type": "markdown",
   "metadata": {},
   "source": [
    "### Load Battery Data"
   ]
  },
  {
   "cell_type": "code",
   "execution_count": 2,
   "metadata": {},
   "outputs": [
    {
     "data": {
      "text/html": [
       "<div>\n",
       "<style scoped>\n",
       "    .dataframe tbody tr th:only-of-type {\n",
       "        vertical-align: middle;\n",
       "    }\n",
       "\n",
       "    .dataframe tbody tr th {\n",
       "        vertical-align: top;\n",
       "    }\n",
       "\n",
       "    .dataframe thead th {\n",
       "        text-align: right;\n",
       "    }\n",
       "</style>\n",
       "<table border=\"1\" class=\"dataframe\">\n",
       "  <thead>\n",
       "    <tr style=\"text-align: right;\">\n",
       "      <th></th>\n",
       "      <th>Lifetime</th>\n",
       "      <th>Material</th>\n",
       "      <th>Temp</th>\n",
       "    </tr>\n",
       "  </thead>\n",
       "  <tbody>\n",
       "    <tr>\n",
       "      <th>0</th>\n",
       "      <td>130</td>\n",
       "      <td>M1</td>\n",
       "      <td>T015</td>\n",
       "    </tr>\n",
       "    <tr>\n",
       "      <th>1</th>\n",
       "      <td>155</td>\n",
       "      <td>M1</td>\n",
       "      <td>T015</td>\n",
       "    </tr>\n",
       "    <tr>\n",
       "      <th>2</th>\n",
       "      <td>74</td>\n",
       "      <td>M1</td>\n",
       "      <td>T015</td>\n",
       "    </tr>\n",
       "    <tr>\n",
       "      <th>3</th>\n",
       "      <td>180</td>\n",
       "      <td>M1</td>\n",
       "      <td>T015</td>\n",
       "    </tr>\n",
       "    <tr>\n",
       "      <th>4</th>\n",
       "      <td>34</td>\n",
       "      <td>M1</td>\n",
       "      <td>T070</td>\n",
       "    </tr>\n",
       "    <tr>\n",
       "      <th>5</th>\n",
       "      <td>40</td>\n",
       "      <td>M1</td>\n",
       "      <td>T070</td>\n",
       "    </tr>\n",
       "    <tr>\n",
       "      <th>6</th>\n",
       "      <td>80</td>\n",
       "      <td>M1</td>\n",
       "      <td>T070</td>\n",
       "    </tr>\n",
       "    <tr>\n",
       "      <th>7</th>\n",
       "      <td>75</td>\n",
       "      <td>M1</td>\n",
       "      <td>T070</td>\n",
       "    </tr>\n",
       "    <tr>\n",
       "      <th>8</th>\n",
       "      <td>20</td>\n",
       "      <td>M1</td>\n",
       "      <td>T125</td>\n",
       "    </tr>\n",
       "    <tr>\n",
       "      <th>9</th>\n",
       "      <td>70</td>\n",
       "      <td>M1</td>\n",
       "      <td>T125</td>\n",
       "    </tr>\n",
       "    <tr>\n",
       "      <th>10</th>\n",
       "      <td>82</td>\n",
       "      <td>M1</td>\n",
       "      <td>T125</td>\n",
       "    </tr>\n",
       "    <tr>\n",
       "      <th>11</th>\n",
       "      <td>58</td>\n",
       "      <td>M1</td>\n",
       "      <td>T125</td>\n",
       "    </tr>\n",
       "    <tr>\n",
       "      <th>12</th>\n",
       "      <td>150</td>\n",
       "      <td>M2</td>\n",
       "      <td>T015</td>\n",
       "    </tr>\n",
       "    <tr>\n",
       "      <th>13</th>\n",
       "      <td>188</td>\n",
       "      <td>M2</td>\n",
       "      <td>T015</td>\n",
       "    </tr>\n",
       "    <tr>\n",
       "      <th>14</th>\n",
       "      <td>159</td>\n",
       "      <td>M2</td>\n",
       "      <td>T015</td>\n",
       "    </tr>\n",
       "    <tr>\n",
       "      <th>15</th>\n",
       "      <td>126</td>\n",
       "      <td>M2</td>\n",
       "      <td>T015</td>\n",
       "    </tr>\n",
       "    <tr>\n",
       "      <th>16</th>\n",
       "      <td>136</td>\n",
       "      <td>M2</td>\n",
       "      <td>T070</td>\n",
       "    </tr>\n",
       "    <tr>\n",
       "      <th>17</th>\n",
       "      <td>122</td>\n",
       "      <td>M2</td>\n",
       "      <td>T070</td>\n",
       "    </tr>\n",
       "    <tr>\n",
       "      <th>18</th>\n",
       "      <td>106</td>\n",
       "      <td>M2</td>\n",
       "      <td>T070</td>\n",
       "    </tr>\n",
       "    <tr>\n",
       "      <th>19</th>\n",
       "      <td>115</td>\n",
       "      <td>M2</td>\n",
       "      <td>T070</td>\n",
       "    </tr>\n",
       "    <tr>\n",
       "      <th>20</th>\n",
       "      <td>25</td>\n",
       "      <td>M2</td>\n",
       "      <td>T125</td>\n",
       "    </tr>\n",
       "    <tr>\n",
       "      <th>21</th>\n",
       "      <td>70</td>\n",
       "      <td>M2</td>\n",
       "      <td>T125</td>\n",
       "    </tr>\n",
       "    <tr>\n",
       "      <th>22</th>\n",
       "      <td>58</td>\n",
       "      <td>M2</td>\n",
       "      <td>T125</td>\n",
       "    </tr>\n",
       "    <tr>\n",
       "      <th>23</th>\n",
       "      <td>45</td>\n",
       "      <td>M2</td>\n",
       "      <td>T125</td>\n",
       "    </tr>\n",
       "    <tr>\n",
       "      <th>24</th>\n",
       "      <td>138</td>\n",
       "      <td>M3</td>\n",
       "      <td>T015</td>\n",
       "    </tr>\n",
       "    <tr>\n",
       "      <th>25</th>\n",
       "      <td>110</td>\n",
       "      <td>M3</td>\n",
       "      <td>T015</td>\n",
       "    </tr>\n",
       "    <tr>\n",
       "      <th>26</th>\n",
       "      <td>168</td>\n",
       "      <td>M3</td>\n",
       "      <td>T015</td>\n",
       "    </tr>\n",
       "    <tr>\n",
       "      <th>27</th>\n",
       "      <td>160</td>\n",
       "      <td>M3</td>\n",
       "      <td>T015</td>\n",
       "    </tr>\n",
       "    <tr>\n",
       "      <th>28</th>\n",
       "      <td>174</td>\n",
       "      <td>M3</td>\n",
       "      <td>T070</td>\n",
       "    </tr>\n",
       "    <tr>\n",
       "      <th>29</th>\n",
       "      <td>120</td>\n",
       "      <td>M3</td>\n",
       "      <td>T070</td>\n",
       "    </tr>\n",
       "    <tr>\n",
       "      <th>30</th>\n",
       "      <td>150</td>\n",
       "      <td>M3</td>\n",
       "      <td>T070</td>\n",
       "    </tr>\n",
       "    <tr>\n",
       "      <th>31</th>\n",
       "      <td>139</td>\n",
       "      <td>M3</td>\n",
       "      <td>T070</td>\n",
       "    </tr>\n",
       "    <tr>\n",
       "      <th>32</th>\n",
       "      <td>96</td>\n",
       "      <td>M3</td>\n",
       "      <td>T125</td>\n",
       "    </tr>\n",
       "    <tr>\n",
       "      <th>33</th>\n",
       "      <td>104</td>\n",
       "      <td>M3</td>\n",
       "      <td>T125</td>\n",
       "    </tr>\n",
       "    <tr>\n",
       "      <th>34</th>\n",
       "      <td>82</td>\n",
       "      <td>M3</td>\n",
       "      <td>T125</td>\n",
       "    </tr>\n",
       "    <tr>\n",
       "      <th>35</th>\n",
       "      <td>60</td>\n",
       "      <td>M3</td>\n",
       "      <td>T125</td>\n",
       "    </tr>\n",
       "  </tbody>\n",
       "</table>\n",
       "</div>"
      ],
      "text/plain": [
       "    Lifetime Material  Temp\n",
       "0        130       M1  T015\n",
       "1        155       M1  T015\n",
       "2         74       M1  T015\n",
       "3        180       M1  T015\n",
       "4         34       M1  T070\n",
       "5         40       M1  T070\n",
       "6         80       M1  T070\n",
       "7         75       M1  T070\n",
       "8         20       M1  T125\n",
       "9         70       M1  T125\n",
       "10        82       M1  T125\n",
       "11        58       M1  T125\n",
       "12       150       M2  T015\n",
       "13       188       M2  T015\n",
       "14       159       M2  T015\n",
       "15       126       M2  T015\n",
       "16       136       M2  T070\n",
       "17       122       M2  T070\n",
       "18       106       M2  T070\n",
       "19       115       M2  T070\n",
       "20        25       M2  T125\n",
       "21        70       M2  T125\n",
       "22        58       M2  T125\n",
       "23        45       M2  T125\n",
       "24       138       M3  T015\n",
       "25       110       M3  T015\n",
       "26       168       M3  T015\n",
       "27       160       M3  T015\n",
       "28       174       M3  T070\n",
       "29       120       M3  T070\n",
       "30       150       M3  T070\n",
       "31       139       M3  T070\n",
       "32        96       M3  T125\n",
       "33       104       M3  T125\n",
       "34        82       M3  T125\n",
       "35        60       M3  T125"
      ]
     },
     "execution_count": 2,
     "metadata": {},
     "output_type": "execute_result"
    }
   ],
   "source": [
    "import pandas as pd\n",
    "\n",
    "battery_data = pd.read_excel('lect05-factorial.xlsx', \n",
    "                             sheet_name='Battery',header=0)\n",
    "battery_data"
   ]
  },
  {
   "cell_type": "markdown",
   "metadata": {},
   "source": [
    "### Model fitting and ANOVA table"
   ]
  },
  {
   "cell_type": "code",
   "execution_count": 5,
   "metadata": {},
   "outputs": [
    {
     "data": {
      "text/html": [
       "<div>\n",
       "<style scoped>\n",
       "    .dataframe tbody tr th:only-of-type {\n",
       "        vertical-align: middle;\n",
       "    }\n",
       "\n",
       "    .dataframe tbody tr th {\n",
       "        vertical-align: top;\n",
       "    }\n",
       "\n",
       "    .dataframe thead th {\n",
       "        text-align: right;\n",
       "    }\n",
       "</style>\n",
       "<table border=\"1\" class=\"dataframe\">\n",
       "  <thead>\n",
       "    <tr style=\"text-align: right;\">\n",
       "      <th></th>\n",
       "      <th>df</th>\n",
       "      <th>sum_sq</th>\n",
       "      <th>mean_sq</th>\n",
       "      <th>F</th>\n",
       "      <th>PR(&gt;F)</th>\n",
       "    </tr>\n",
       "  </thead>\n",
       "  <tbody>\n",
       "    <tr>\n",
       "      <th>Material</th>\n",
       "      <td>2.0</td>\n",
       "      <td>10683.722222</td>\n",
       "      <td>5341.861111</td>\n",
       "      <td>7.911372</td>\n",
       "      <td>1.976083e-03</td>\n",
       "    </tr>\n",
       "    <tr>\n",
       "      <th>Temp</th>\n",
       "      <td>2.0</td>\n",
       "      <td>39118.722222</td>\n",
       "      <td>19559.361111</td>\n",
       "      <td>28.967692</td>\n",
       "      <td>1.908596e-07</td>\n",
       "    </tr>\n",
       "    <tr>\n",
       "      <th>Material:Temp</th>\n",
       "      <td>4.0</td>\n",
       "      <td>9613.777778</td>\n",
       "      <td>2403.444444</td>\n",
       "      <td>3.559535</td>\n",
       "      <td>1.861117e-02</td>\n",
       "    </tr>\n",
       "    <tr>\n",
       "      <th>Residual</th>\n",
       "      <td>27.0</td>\n",
       "      <td>18230.750000</td>\n",
       "      <td>675.212963</td>\n",
       "      <td>NaN</td>\n",
       "      <td>NaN</td>\n",
       "    </tr>\n",
       "  </tbody>\n",
       "</table>\n",
       "</div>"
      ],
      "text/plain": [
       "                 df        sum_sq       mean_sq          F        PR(>F)\n",
       "Material        2.0  10683.722222   5341.861111   7.911372  1.976083e-03\n",
       "Temp            2.0  39118.722222  19559.361111  28.967692  1.908596e-07\n",
       "Material:Temp   4.0   9613.777778   2403.444444   3.559535  1.861117e-02\n",
       "Residual       27.0  18230.750000    675.212963        NaN           NaN"
      ]
     },
     "execution_count": 5,
     "metadata": {},
     "output_type": "execute_result"
    }
   ],
   "source": [
    "from statsmodels.formula.api import ols\n",
    "from statsmodels.stats.anova import anova_lm\n",
    "\n",
    "formula = 'Lifetime ~ Material + Temp + Material:Temp'\n",
    "mdl = ols(formula, data=battery_data).fit()\n",
    "aov_table = anova_lm(mdl, typ=1) \n",
    "aov_table"
   ]
  },
  {
   "cell_type": "markdown",
   "metadata": {},
   "source": [
    "### Interaction plot"
   ]
  },
  {
   "cell_type": "code",
   "execution_count": 6,
   "metadata": {},
   "outputs": [
    {
     "data": {
      "image/png": "[encoded data removed]",
      "text/plain": [
       "<Figure size 432x288 with 1 Axes>"
      ]
     },
     "metadata": {
      "image/png": {
       "height": 267,
       "width": 393
      },
      "needs_background": "light"
     },
     "output_type": "display_data"
    }
   ],
   "source": [
    "from statsmodels.graphics.factorplots import interaction_plot\n",
    "\n",
    "fig = interaction_plot(battery_data.Temp, \n",
    "                       battery_data.Material, \n",
    "                       battery_data.Lifetime, \n",
    "                       markers=['D','^','o'], ms=10) "
   ]
  },
  {
   "cell_type": "markdown",
   "metadata": {},
   "source": [
    "### Model assumption check"
   ]
  },
  {
   "cell_type": "code",
   "execution_count": 7,
   "metadata": {},
   "outputs": [
    {
     "data": {
      "image/png": "[encoded data removed]",
      "text/plain": [
       "<Figure size 432x288 with 1 Axes>"
      ]
     },
     "metadata": {
      "image/png": {
       "height": 280,
       "width": 423
      },
      "needs_background": "light"
     },
     "output_type": "display_data"
    }
   ],
   "source": [
    "import statsmodels.api as sm\n",
    "import matplotlib.pyplot as plt\n",
    "\n",
    "sm.graphics.qqplot(mdl.resid,line='q',alpha=0.5,ms=6)\n",
    "plt.title('Normal plot')\n",
    "plt.tight_layout()\n",
    "pass;"
   ]
  },
  {
   "cell_type": "code",
   "execution_count": 8,
   "metadata": {},
   "outputs": [
    {
     "data": {
      "image/png": "[encoded data removed]",
      "text/plain": [
       "<Figure size 432x288 with 1 Axes>"
      ]
     },
     "metadata": {
      "image/png": {
       "height": 283,
       "width": 376
      },
      "needs_background": "light"
     },
     "output_type": "display_data"
    }
   ],
   "source": [
    "import seaborn as sns\n",
    "\n",
    "#fig = plt.figure(figsize=(10,8))\n",
    "    \n",
    "#resid_df = pd.DataFrame({'Group':battery_data['Temp'], 'Resid':mdl.resid})\n",
    "#sns.stripplot(x='Group', y='Resid', data=resid_df);\n",
    "sns.stripplot(x=battery_data['Temp'], y=mdl.resid, alpha=0.5, size=7);\n",
    "plt.title('Residuals by treatments (Temperature)')\n",
    "pass;"
   ]
  },
  {
   "cell_type": "code",
   "execution_count": 9,
   "metadata": {},
   "outputs": [
    {
     "data": {
      "image/png": "[encoded data removed]",
      "text/plain": [
       "<Figure size 432x288 with 1 Axes>"
      ]
     },
     "metadata": {
      "image/png": {
       "height": 283,
       "width": 376
      },
      "needs_background": "light"
     },
     "output_type": "display_data"
    }
   ],
   "source": [
    "import seaborn as sns\n",
    "\n",
    "#fig = plt.figure(figsize=(10,8))\n",
    "    \n",
    "#resid_df = pd.DataFrame({'Group':battery_data['Temp'], 'Resid':mdl.resid})\n",
    "#sns.stripplot(x='Group', y='Resid', data=resid_df);\n",
    "sns.stripplot(x=battery_data['Material'], y=mdl.resid, alpha=0.5, size=7);\n",
    "plt.title('Residuals by treatments (Material)')\n",
    "pass;"
   ]
  },
  {
   "cell_type": "markdown",
   "metadata": {},
   "source": [
    "### Tukey HSD Test for specific factor level"
   ]
  },
  {
   "cell_type": "markdown",
   "metadata": {},
   "source": [
    "#### Compute margin error for C.I."
   ]
  },
  {
   "cell_type": "code",
   "execution_count": 10,
   "metadata": {
    "scrolled": true
   },
   "outputs": [],
   "source": [
    "from statsmodels.stats.libqsturng import qsturng\n",
    "\n",
    "a = len(battery_data.Material.unique())\n",
    "f = mdl.df_resid\n",
    "n = battery_data.groupby(['Material','Temp']).count().reset_index().iloc[0,-1]"
   ]
  },
  {
   "cell_type": "code",
   "execution_count": 11,
   "metadata": {},
   "outputs": [
    {
     "name": "stdout",
     "output_type": "stream",
     "text": [
      "q-critical value: 3.51\n",
      "Margin error: 45.55\n"
     ]
    }
   ],
   "source": [
    "alpha=0.05\n",
    "q_crit = qsturng(1-alpha, a, f)\n",
    "margin_err = q_crit*np.sqrt(mdl.mse_resid/n) \n",
    "print('q-critical value: {:.2f}'.format(q_crit))\n",
    "print('Margin error: {:.2f}'.format(margin_err))"
   ]
  },
  {
   "cell_type": "code",
   "execution_count": null,
   "metadata": {},
   "outputs": [],
   "source": [
    "#ต้องเอาค่า Margin error ไปเทียบกับ mean differences ถ้าสมมติ mean differences=0 มันจะ +- ช่วงก็จะค่อม 0"
   ]
  },
  {
   "cell_type": "markdown",
   "metadata": {},
   "source": [
    "Compare the margin error to the mean differences to determine if the mean differences are significant."
   ]
  },
  {
   "cell_type": "markdown",
   "metadata": {},
   "source": [
    "###  Your Turn -- Activity II: Missile System and Propellant Type  "
   ]
  },
  {
   "cell_type": "code",
   "execution_count": 50,
   "metadata": {
    "scrolled": true
   },
   "outputs": [
    {
     "data": {
      "text/html": [
       "<div>\n",
       "<style scoped>\n",
       "    .dataframe tbody tr th:only-of-type {\n",
       "        vertical-align: middle;\n",
       "    }\n",
       "\n",
       "    .dataframe tbody tr th {\n",
       "        vertical-align: top;\n",
       "    }\n",
       "\n",
       "    .dataframe thead th {\n",
       "        text-align: right;\n",
       "    }\n",
       "</style>\n",
       "<table border=\"1\" class=\"dataframe\">\n",
       "  <thead>\n",
       "    <tr style=\"text-align: right;\">\n",
       "      <th></th>\n",
       "      <th>BurningRate</th>\n",
       "      <th>System</th>\n",
       "      <th>Propellant</th>\n",
       "    </tr>\n",
       "  </thead>\n",
       "  <tbody>\n",
       "    <tr>\n",
       "      <th>0</th>\n",
       "      <td>34.0</td>\n",
       "      <td>S1</td>\n",
       "      <td>P1</td>\n",
       "    </tr>\n",
       "    <tr>\n",
       "      <th>1</th>\n",
       "      <td>32.7</td>\n",
       "      <td>S1</td>\n",
       "      <td>P1</td>\n",
       "    </tr>\n",
       "    <tr>\n",
       "      <th>2</th>\n",
       "      <td>30.1</td>\n",
       "      <td>S1</td>\n",
       "      <td>P2</td>\n",
       "    </tr>\n",
       "    <tr>\n",
       "      <th>3</th>\n",
       "      <td>32.8</td>\n",
       "      <td>S1</td>\n",
       "      <td>P2</td>\n",
       "    </tr>\n",
       "    <tr>\n",
       "      <th>4</th>\n",
       "      <td>29.8</td>\n",
       "      <td>S1</td>\n",
       "      <td>P3</td>\n",
       "    </tr>\n",
       "    <tr>\n",
       "      <th>5</th>\n",
       "      <td>26.7</td>\n",
       "      <td>S1</td>\n",
       "      <td>P3</td>\n",
       "    </tr>\n",
       "    <tr>\n",
       "      <th>6</th>\n",
       "      <td>29.0</td>\n",
       "      <td>S1</td>\n",
       "      <td>P4</td>\n",
       "    </tr>\n",
       "    <tr>\n",
       "      <th>7</th>\n",
       "      <td>28.9</td>\n",
       "      <td>S1</td>\n",
       "      <td>P4</td>\n",
       "    </tr>\n",
       "    <tr>\n",
       "      <th>8</th>\n",
       "      <td>32.0</td>\n",
       "      <td>S2</td>\n",
       "      <td>P1</td>\n",
       "    </tr>\n",
       "    <tr>\n",
       "      <th>9</th>\n",
       "      <td>33.2</td>\n",
       "      <td>S2</td>\n",
       "      <td>P1</td>\n",
       "    </tr>\n",
       "    <tr>\n",
       "      <th>10</th>\n",
       "      <td>30.2</td>\n",
       "      <td>S2</td>\n",
       "      <td>P2</td>\n",
       "    </tr>\n",
       "    <tr>\n",
       "      <th>11</th>\n",
       "      <td>29.8</td>\n",
       "      <td>S2</td>\n",
       "      <td>P2</td>\n",
       "    </tr>\n",
       "    <tr>\n",
       "      <th>12</th>\n",
       "      <td>28.7</td>\n",
       "      <td>S2</td>\n",
       "      <td>P3</td>\n",
       "    </tr>\n",
       "    <tr>\n",
       "      <th>13</th>\n",
       "      <td>28.1</td>\n",
       "      <td>S2</td>\n",
       "      <td>P3</td>\n",
       "    </tr>\n",
       "    <tr>\n",
       "      <th>14</th>\n",
       "      <td>27.6</td>\n",
       "      <td>S2</td>\n",
       "      <td>P4</td>\n",
       "    </tr>\n",
       "    <tr>\n",
       "      <th>15</th>\n",
       "      <td>27.8</td>\n",
       "      <td>S2</td>\n",
       "      <td>P4</td>\n",
       "    </tr>\n",
       "    <tr>\n",
       "      <th>16</th>\n",
       "      <td>28.4</td>\n",
       "      <td>S3</td>\n",
       "      <td>P1</td>\n",
       "    </tr>\n",
       "    <tr>\n",
       "      <th>17</th>\n",
       "      <td>29.3</td>\n",
       "      <td>S3</td>\n",
       "      <td>P1</td>\n",
       "    </tr>\n",
       "    <tr>\n",
       "      <th>18</th>\n",
       "      <td>27.3</td>\n",
       "      <td>S3</td>\n",
       "      <td>P2</td>\n",
       "    </tr>\n",
       "    <tr>\n",
       "      <th>19</th>\n",
       "      <td>28.9</td>\n",
       "      <td>S3</td>\n",
       "      <td>P2</td>\n",
       "    </tr>\n",
       "    <tr>\n",
       "      <th>20</th>\n",
       "      <td>29.7</td>\n",
       "      <td>S3</td>\n",
       "      <td>P3</td>\n",
       "    </tr>\n",
       "    <tr>\n",
       "      <th>21</th>\n",
       "      <td>27.3</td>\n",
       "      <td>S3</td>\n",
       "      <td>P3</td>\n",
       "    </tr>\n",
       "    <tr>\n",
       "      <th>22</th>\n",
       "      <td>28.8</td>\n",
       "      <td>S3</td>\n",
       "      <td>P4</td>\n",
       "    </tr>\n",
       "    <tr>\n",
       "      <th>23</th>\n",
       "      <td>29.1</td>\n",
       "      <td>S3</td>\n",
       "      <td>P4</td>\n",
       "    </tr>\n",
       "  </tbody>\n",
       "</table>\n",
       "</div>"
      ],
      "text/plain": [
       "    BurningRate System Propellant\n",
       "0          34.0     S1         P1\n",
       "1          32.7     S1         P1\n",
       "2          30.1     S1         P2\n",
       "3          32.8     S1         P2\n",
       "4          29.8     S1         P3\n",
       "5          26.7     S1         P3\n",
       "6          29.0     S1         P4\n",
       "7          28.9     S1         P4\n",
       "8          32.0     S2         P1\n",
       "9          33.2     S2         P1\n",
       "10         30.2     S2         P2\n",
       "11         29.8     S2         P2\n",
       "12         28.7     S2         P3\n",
       "13         28.1     S2         P3\n",
       "14         27.6     S2         P4\n",
       "15         27.8     S2         P4\n",
       "16         28.4     S3         P1\n",
       "17         29.3     S3         P1\n",
       "18         27.3     S3         P2\n",
       "19         28.9     S3         P2\n",
       "20         29.7     S3         P3\n",
       "21         27.3     S3         P3\n",
       "22         28.8     S3         P4\n",
       "23         29.1     S3         P4"
      ]
     },
     "execution_count": 50,
     "metadata": {},
     "output_type": "execute_result"
    }
   ],
   "source": [
    "burningrate_data = pd.read_excel('lect05-factorial.xlsx', sheet_name='Missile', header=0)\n",
    "burningrate_data"
   ]
  },
  {
   "cell_type": "code",
   "execution_count": 41,
   "metadata": {},
   "outputs": [
    {
     "data": {
      "text/html": [
       "<div>\n",
       "<style scoped>\n",
       "    .dataframe tbody tr th:only-of-type {\n",
       "        vertical-align: middle;\n",
       "    }\n",
       "\n",
       "    .dataframe tbody tr th {\n",
       "        vertical-align: top;\n",
       "    }\n",
       "\n",
       "    .dataframe thead th {\n",
       "        text-align: right;\n",
       "    }\n",
       "</style>\n",
       "<table border=\"1\" class=\"dataframe\">\n",
       "  <thead>\n",
       "    <tr style=\"text-align: right;\">\n",
       "      <th></th>\n",
       "      <th>df</th>\n",
       "      <th>sum_sq</th>\n",
       "      <th>mean_sq</th>\n",
       "      <th>F</th>\n",
       "      <th>PR(&gt;F)</th>\n",
       "    </tr>\n",
       "  </thead>\n",
       "  <tbody>\n",
       "    <tr>\n",
       "      <th>System</th>\n",
       "      <td>2.0</td>\n",
       "      <td>14.523333</td>\n",
       "      <td>7.261667</td>\n",
       "      <td>5.844400</td>\n",
       "      <td>0.016898</td>\n",
       "    </tr>\n",
       "    <tr>\n",
       "      <th>Propellant</th>\n",
       "      <td>3.0</td>\n",
       "      <td>40.081667</td>\n",
       "      <td>13.360556</td>\n",
       "      <td>10.752962</td>\n",
       "      <td>0.001020</td>\n",
       "    </tr>\n",
       "    <tr>\n",
       "      <th>System:Propellant</th>\n",
       "      <td>6.0</td>\n",
       "      <td>22.163333</td>\n",
       "      <td>3.693889</td>\n",
       "      <td>2.972949</td>\n",
       "      <td>0.051168</td>\n",
       "    </tr>\n",
       "    <tr>\n",
       "      <th>Residual</th>\n",
       "      <td>12.0</td>\n",
       "      <td>14.910000</td>\n",
       "      <td>1.242500</td>\n",
       "      <td>NaN</td>\n",
       "      <td>NaN</td>\n",
       "    </tr>\n",
       "  </tbody>\n",
       "</table>\n",
       "</div>"
      ],
      "text/plain": [
       "                     df     sum_sq    mean_sq          F    PR(>F)\n",
       "System              2.0  14.523333   7.261667   5.844400  0.016898\n",
       "Propellant          3.0  40.081667  13.360556  10.752962  0.001020\n",
       "System:Propellant   6.0  22.163333   3.693889   2.972949  0.051168\n",
       "Residual           12.0  14.910000   1.242500        NaN       NaN"
      ]
     },
     "execution_count": 41,
     "metadata": {},
     "output_type": "execute_result"
    }
   ],
   "source": [
    "from statsmodels.formula.api import ols\n",
    "from statsmodels.stats.anova import anova_lm\n",
    "\n",
    "formula1 = 'BurningRate ~ System + Propellant + System:Propellant'\n",
    "mdl1 = ols(formula1, data=burningrate_data).fit()\n",
    "aov_table1 = anova_lm(mdl1, typ=1) \n",
    "aov_table1"
   ]
  },
  {
   "cell_type": "code",
   "execution_count": 42,
   "metadata": {
    "scrolled": true
   },
   "outputs": [
    {
     "data": {
      "image/png": "[encoded data removed]",
      "text/plain": [
       "<Figure size 432x288 with 1 Axes>"
      ]
     },
     "metadata": {
      "image/png": {
       "height": 261,
       "width": 382
      },
      "needs_background": "light"
     },
     "output_type": "display_data"
    }
   ],
   "source": [
    "from statsmodels.graphics.factorplots import interaction_plot\n",
    "\n",
    "fig = interaction_plot(burningrate_data.System, \n",
    "                       burningrate_data.Propellant, \n",
    "                       burningrate_data.BurningRate, \n",
    "                       markers=['D','^','o','s'], ms=10) "
   ]
  },
  {
   "cell_type": "code",
   "execution_count": 54,
   "metadata": {},
   "outputs": [
    {
     "data": {
      "text/html": [
       "<div>\n",
       "<style scoped>\n",
       "    .dataframe tbody tr th:only-of-type {\n",
       "        vertical-align: middle;\n",
       "    }\n",
       "\n",
       "    .dataframe tbody tr th {\n",
       "        vertical-align: top;\n",
       "    }\n",
       "\n",
       "    .dataframe thead th {\n",
       "        text-align: right;\n",
       "    }\n",
       "</style>\n",
       "<table border=\"1\" class=\"dataframe\">\n",
       "  <thead>\n",
       "    <tr style=\"text-align: right;\">\n",
       "      <th></th>\n",
       "      <th>BurningRate</th>\n",
       "      <th>System</th>\n",
       "      <th>Propellant</th>\n",
       "    </tr>\n",
       "  </thead>\n",
       "  <tbody>\n",
       "    <tr>\n",
       "      <th>0</th>\n",
       "      <td>34.0</td>\n",
       "      <td>S1</td>\n",
       "      <td>P1</td>\n",
       "    </tr>\n",
       "    <tr>\n",
       "      <th>1</th>\n",
       "      <td>32.7</td>\n",
       "      <td>S1</td>\n",
       "      <td>P1</td>\n",
       "    </tr>\n",
       "    <tr>\n",
       "      <th>2</th>\n",
       "      <td>30.1</td>\n",
       "      <td>S1</td>\n",
       "      <td>P2</td>\n",
       "    </tr>\n",
       "    <tr>\n",
       "      <th>3</th>\n",
       "      <td>32.8</td>\n",
       "      <td>S1</td>\n",
       "      <td>P2</td>\n",
       "    </tr>\n",
       "    <tr>\n",
       "      <th>4</th>\n",
       "      <td>29.8</td>\n",
       "      <td>S1</td>\n",
       "      <td>P3</td>\n",
       "    </tr>\n",
       "    <tr>\n",
       "      <th>5</th>\n",
       "      <td>26.7</td>\n",
       "      <td>S1</td>\n",
       "      <td>P3</td>\n",
       "    </tr>\n",
       "    <tr>\n",
       "      <th>6</th>\n",
       "      <td>29.0</td>\n",
       "      <td>S1</td>\n",
       "      <td>P4</td>\n",
       "    </tr>\n",
       "    <tr>\n",
       "      <th>7</th>\n",
       "      <td>28.9</td>\n",
       "      <td>S1</td>\n",
       "      <td>P4</td>\n",
       "    </tr>\n",
       "  </tbody>\n",
       "</table>\n",
       "</div>"
      ],
      "text/plain": [
       "   BurningRate System Propellant\n",
       "0         34.0     S1         P1\n",
       "1         32.7     S1         P1\n",
       "2         30.1     S1         P2\n",
       "3         32.8     S1         P2\n",
       "4         29.8     S1         P3\n",
       "5         26.7     S1         P3\n",
       "6         29.0     S1         P4\n",
       "7         28.9     S1         P4"
      ]
     },
     "execution_count": 54,
     "metadata": {},
     "output_type": "execute_result"
    }
   ],
   "source": [
    "burningrate_data_fixs1 = burningrate_data.query( 'System==\"S1\"')\n",
    "burningrate_data_fixs1"
   ]
  },
  {
   "cell_type": "code",
   "execution_count": 43,
   "metadata": {},
   "outputs": [],
   "source": [
    "from statsmodels.stats.libqsturng import qsturng\n",
    "\n",
    "a = len(burningrate_data.Propellant.unique())\n",
    "f = mdl1.df_resid\n",
    "n = burningrate_data.groupby(['Propellant','System']).count().reset_index().iloc[0,-1]"
   ]
  },
  {
   "cell_type": "code",
   "execution_count": 64,
   "metadata": {},
   "outputs": [
    {
     "name": "stdout",
     "output_type": "stream",
     "text": [
      "q-critical value: 4.20\n",
      "Margin error: 3.31\n"
     ]
    }
   ],
   "source": [
    "alpha= 0.05\n",
    "q_crit = qsturng(1-alpha, a, f)\n",
    "margin_err = q_crit*np.sqrt(mdl1.mse_resid/n)\n",
    "print('q-critical value: {:.2f}'.format(q_crit))\n",
    "print('Margin error: {:.2f}'.format(margin_err))"
   ]
  },
  {
   "cell_type": "code",
   "execution_count": 65,
   "metadata": {},
   "outputs": [
    {
     "data": {
      "text/plain": [
       "Propellant\n",
       "P1    33.35\n",
       "P2    31.45\n",
       "P3    28.25\n",
       "P4    28.95\n",
       "Name: BurningRate, dtype: float64"
      ]
     },
     "execution_count": 65,
     "metadata": {},
     "output_type": "execute_result"
    }
   ],
   "source": [
    "group_mean = burningrate_data_fixs1.groupby('Propellant').aggregate({'BurningRate':'mean'}).BurningRate\n",
    "group_mean"
   ]
  },
  {
   "cell_type": "code",
   "execution_count": 67,
   "metadata": {},
   "outputs": [
    {
     "data": {
      "text/html": [
       "<div>\n",
       "<style scoped>\n",
       "    .dataframe tbody tr th:only-of-type {\n",
       "        vertical-align: middle;\n",
       "    }\n",
       "\n",
       "    .dataframe tbody tr th {\n",
       "        vertical-align: top;\n",
       "    }\n",
       "\n",
       "    .dataframe thead th {\n",
       "        text-align: right;\n",
       "    }\n",
       "</style>\n",
       "<table border=\"1\" class=\"dataframe\">\n",
       "  <thead>\n",
       "    <tr style=\"text-align: right;\">\n",
       "      <th></th>\n",
       "      <th>group1</th>\n",
       "      <th>group2</th>\n",
       "      <th>meandiff</th>\n",
       "      <th>lower</th>\n",
       "      <th>upper</th>\n",
       "      <th>reject</th>\n",
       "    </tr>\n",
       "  </thead>\n",
       "  <tbody>\n",
       "    <tr>\n",
       "      <th>0</th>\n",
       "      <td>P1</td>\n",
       "      <td>P2</td>\n",
       "      <td>-1.9</td>\n",
       "      <td>-5.209748</td>\n",
       "      <td>1.409748</td>\n",
       "      <td>False</td>\n",
       "    </tr>\n",
       "    <tr>\n",
       "      <th>1</th>\n",
       "      <td>P1</td>\n",
       "      <td>P3</td>\n",
       "      <td>-5.1</td>\n",
       "      <td>-8.409748</td>\n",
       "      <td>-1.790252</td>\n",
       "      <td>True</td>\n",
       "    </tr>\n",
       "    <tr>\n",
       "      <th>2</th>\n",
       "      <td>P1</td>\n",
       "      <td>P4</td>\n",
       "      <td>-4.4</td>\n",
       "      <td>-7.709748</td>\n",
       "      <td>-1.090252</td>\n",
       "      <td>True</td>\n",
       "    </tr>\n",
       "    <tr>\n",
       "      <th>3</th>\n",
       "      <td>P2</td>\n",
       "      <td>P3</td>\n",
       "      <td>-3.2</td>\n",
       "      <td>-6.509748</td>\n",
       "      <td>0.109748</td>\n",
       "      <td>False</td>\n",
       "    </tr>\n",
       "    <tr>\n",
       "      <th>4</th>\n",
       "      <td>P2</td>\n",
       "      <td>P4</td>\n",
       "      <td>-2.5</td>\n",
       "      <td>-5.809748</td>\n",
       "      <td>0.809748</td>\n",
       "      <td>False</td>\n",
       "    </tr>\n",
       "    <tr>\n",
       "      <th>5</th>\n",
       "      <td>P3</td>\n",
       "      <td>P4</td>\n",
       "      <td>0.7</td>\n",
       "      <td>-2.609748</td>\n",
       "      <td>4.009748</td>\n",
       "      <td>False</td>\n",
       "    </tr>\n",
       "  </tbody>\n",
       "</table>\n",
       "</div>"
      ],
      "text/plain": [
       "  group1 group2  meandiff     lower     upper reject\n",
       "0     P1     P2      -1.9 -5.209748  1.409748  False\n",
       "1     P1     P3      -5.1 -8.409748 -1.790252   True\n",
       "2     P1     P4      -4.4 -7.709748 -1.090252   True\n",
       "3     P2     P3      -3.2 -6.509748  0.109748  False\n",
       "4     P2     P4      -2.5 -5.809748  0.809748  False\n",
       "5     P3     P4       0.7 -2.609748  4.009748  False"
      ]
     },
     "execution_count": 67,
     "metadata": {},
     "output_type": "execute_result"
    }
   ],
   "source": [
    "from statsmodels.stats.libqsturng import qsturng\n",
    "\n",
    "\n",
    "import itertools\n",
    "allpairs=list(itertools.combinations(sorted(burningrate_data_fixs1.Propellant.unique()),2))\n",
    "\n",
    "tukey_df = pd.DataFrame(allpairs, columns={'group1','group2'})\n",
    "tukey_df['meandiff'] = tukey_df.apply(lambda x: group_mean[x['group2']] - group_mean[x['group1']], axis=1) \n",
    "tukey_df['lower'] = tukey_df.apply(lambda x: x['meandiff'] - margin_err, axis=1) \n",
    "tukey_df['upper'] = tukey_df.apply(lambda x: x['meandiff'] + margin_err, axis=1) \n",
    "tukey_df['reject'] = tukey_df.apply(lambda x: 'False' if x['lower'] < 0 and x['upper'] > 0 else 'True', axis=1) \n",
    "tukey_df"
   ]
  },
  {
   "cell_type": "code",
   "execution_count": 28,
   "metadata": {
    "scrolled": true
   },
   "outputs": [
    {
     "name": "stdout",
     "output_type": "stream",
     "text": [
      "Multiple Comparison of Means - Tukey HSD, FWER=0.05\n",
      "===================================================\n",
      "group1 group2 meandiff p-adj   lower  upper  reject\n",
      "---------------------------------------------------\n",
      "    P1     P2    -1.75 0.2649 -4.3457 0.8457  False\n",
      "    P1     P3  -3.2167 0.0119 -5.8123 -0.621   True\n",
      "    P1     P4  -3.0667  0.017 -5.6623 -0.471   True\n",
      "    P2     P3  -1.4667 0.4122 -4.0623  1.129  False\n",
      "    P2     P4  -1.3167  0.502 -3.9123  1.279  False\n",
      "    P3     P4     0.15    0.9 -2.4457 2.7457  False\n",
      "---------------------------------------------------\n"
     ]
    }
   ],
   "source": [
    "from statsmodels.stats.multicomp import pairwise_tukeyhsd\n",
    "\n",
    "# alpha = Family-wise error rate\n",
    "result=pairwise_tukeyhsd(burningrate_data['BurningRate'],burningrate_data['Propellant'],alpha=0.05)\n",
    "print(result)\n",
    "#result.plot_simultaneous();    \n",
    "# Plot confidence intervals of all sample means\n",
    "#plt.vlines(x=49.57,ymin=-0.5,ymax=4.5, color=\"red\")"
   ]
  },
  {
   "cell_type": "markdown",
   "metadata": {},
   "source": [
    "## Three-factor ANOVA"
   ]
  },
  {
   "cell_type": "markdown",
   "metadata": {},
   "source": [
    "### Load data and fit model"
   ]
  },
  {
   "cell_type": "code",
   "execution_count": 3,
   "metadata": {
    "scrolled": true
   },
   "outputs": [
    {
     "data": {
      "text/html": [
       "<div>\n",
       "<style scoped>\n",
       "    .dataframe tbody tr th:only-of-type {\n",
       "        vertical-align: middle;\n",
       "    }\n",
       "\n",
       "    .dataframe tbody tr th {\n",
       "        vertical-align: top;\n",
       "    }\n",
       "\n",
       "    .dataframe thead th {\n",
       "        text-align: right;\n",
       "    }\n",
       "</style>\n",
       "<table border=\"1\" class=\"dataframe\">\n",
       "  <thead>\n",
       "    <tr style=\"text-align: right;\">\n",
       "      <th></th>\n",
       "      <th>Filldeviation</th>\n",
       "      <th>Carbonation</th>\n",
       "      <th>Pressure</th>\n",
       "      <th>Linespeed</th>\n",
       "    </tr>\n",
       "  </thead>\n",
       "  <tbody>\n",
       "    <tr>\n",
       "      <th>0</th>\n",
       "      <td>-3</td>\n",
       "      <td>10</td>\n",
       "      <td>25</td>\n",
       "      <td>200</td>\n",
       "    </tr>\n",
       "    <tr>\n",
       "      <th>1</th>\n",
       "      <td>-1</td>\n",
       "      <td>10</td>\n",
       "      <td>25</td>\n",
       "      <td>200</td>\n",
       "    </tr>\n",
       "    <tr>\n",
       "      <th>2</th>\n",
       "      <td>-1</td>\n",
       "      <td>10</td>\n",
       "      <td>25</td>\n",
       "      <td>250</td>\n",
       "    </tr>\n",
       "    <tr>\n",
       "      <th>3</th>\n",
       "      <td>0</td>\n",
       "      <td>10</td>\n",
       "      <td>25</td>\n",
       "      <td>250</td>\n",
       "    </tr>\n",
       "    <tr>\n",
       "      <th>4</th>\n",
       "      <td>-1</td>\n",
       "      <td>10</td>\n",
       "      <td>30</td>\n",
       "      <td>200</td>\n",
       "    </tr>\n",
       "    <tr>\n",
       "      <th>5</th>\n",
       "      <td>0</td>\n",
       "      <td>10</td>\n",
       "      <td>30</td>\n",
       "      <td>200</td>\n",
       "    </tr>\n",
       "    <tr>\n",
       "      <th>6</th>\n",
       "      <td>1</td>\n",
       "      <td>10</td>\n",
       "      <td>30</td>\n",
       "      <td>250</td>\n",
       "    </tr>\n",
       "    <tr>\n",
       "      <th>7</th>\n",
       "      <td>1</td>\n",
       "      <td>10</td>\n",
       "      <td>30</td>\n",
       "      <td>250</td>\n",
       "    </tr>\n",
       "    <tr>\n",
       "      <th>8</th>\n",
       "      <td>0</td>\n",
       "      <td>12</td>\n",
       "      <td>25</td>\n",
       "      <td>200</td>\n",
       "    </tr>\n",
       "    <tr>\n",
       "      <th>9</th>\n",
       "      <td>1</td>\n",
       "      <td>12</td>\n",
       "      <td>25</td>\n",
       "      <td>200</td>\n",
       "    </tr>\n",
       "    <tr>\n",
       "      <th>10</th>\n",
       "      <td>2</td>\n",
       "      <td>12</td>\n",
       "      <td>25</td>\n",
       "      <td>250</td>\n",
       "    </tr>\n",
       "    <tr>\n",
       "      <th>11</th>\n",
       "      <td>1</td>\n",
       "      <td>12</td>\n",
       "      <td>25</td>\n",
       "      <td>250</td>\n",
       "    </tr>\n",
       "    <tr>\n",
       "      <th>12</th>\n",
       "      <td>2</td>\n",
       "      <td>12</td>\n",
       "      <td>30</td>\n",
       "      <td>200</td>\n",
       "    </tr>\n",
       "    <tr>\n",
       "      <th>13</th>\n",
       "      <td>3</td>\n",
       "      <td>12</td>\n",
       "      <td>30</td>\n",
       "      <td>200</td>\n",
       "    </tr>\n",
       "    <tr>\n",
       "      <th>14</th>\n",
       "      <td>6</td>\n",
       "      <td>12</td>\n",
       "      <td>30</td>\n",
       "      <td>250</td>\n",
       "    </tr>\n",
       "    <tr>\n",
       "      <th>15</th>\n",
       "      <td>5</td>\n",
       "      <td>12</td>\n",
       "      <td>30</td>\n",
       "      <td>250</td>\n",
       "    </tr>\n",
       "    <tr>\n",
       "      <th>16</th>\n",
       "      <td>5</td>\n",
       "      <td>14</td>\n",
       "      <td>25</td>\n",
       "      <td>200</td>\n",
       "    </tr>\n",
       "    <tr>\n",
       "      <th>17</th>\n",
       "      <td>4</td>\n",
       "      <td>14</td>\n",
       "      <td>25</td>\n",
       "      <td>200</td>\n",
       "    </tr>\n",
       "    <tr>\n",
       "      <th>18</th>\n",
       "      <td>7</td>\n",
       "      <td>14</td>\n",
       "      <td>25</td>\n",
       "      <td>250</td>\n",
       "    </tr>\n",
       "    <tr>\n",
       "      <th>19</th>\n",
       "      <td>6</td>\n",
       "      <td>14</td>\n",
       "      <td>25</td>\n",
       "      <td>250</td>\n",
       "    </tr>\n",
       "    <tr>\n",
       "      <th>20</th>\n",
       "      <td>7</td>\n",
       "      <td>14</td>\n",
       "      <td>30</td>\n",
       "      <td>200</td>\n",
       "    </tr>\n",
       "    <tr>\n",
       "      <th>21</th>\n",
       "      <td>9</td>\n",
       "      <td>14</td>\n",
       "      <td>30</td>\n",
       "      <td>200</td>\n",
       "    </tr>\n",
       "    <tr>\n",
       "      <th>22</th>\n",
       "      <td>10</td>\n",
       "      <td>14</td>\n",
       "      <td>30</td>\n",
       "      <td>250</td>\n",
       "    </tr>\n",
       "    <tr>\n",
       "      <th>23</th>\n",
       "      <td>11</td>\n",
       "      <td>14</td>\n",
       "      <td>30</td>\n",
       "      <td>250</td>\n",
       "    </tr>\n",
       "  </tbody>\n",
       "</table>\n",
       "</div>"
      ],
      "text/plain": [
       "    Filldeviation  Carbonation  Pressure  Linespeed\n",
       "0              -3           10        25        200\n",
       "1              -1           10        25        200\n",
       "2              -1           10        25        250\n",
       "3               0           10        25        250\n",
       "4              -1           10        30        200\n",
       "5               0           10        30        200\n",
       "6               1           10        30        250\n",
       "7               1           10        30        250\n",
       "8               0           12        25        200\n",
       "9               1           12        25        200\n",
       "10              2           12        25        250\n",
       "11              1           12        25        250\n",
       "12              2           12        30        200\n",
       "13              3           12        30        200\n",
       "14              6           12        30        250\n",
       "15              5           12        30        250\n",
       "16              5           14        25        200\n",
       "17              4           14        25        200\n",
       "18              7           14        25        250\n",
       "19              6           14        25        250\n",
       "20              7           14        30        200\n",
       "21              9           14        30        200\n",
       "22             10           14        30        250\n",
       "23             11           14        30        250"
      ]
     },
     "execution_count": 3,
     "metadata": {},
     "output_type": "execute_result"
    }
   ],
   "source": [
    "softdrink_data = pd.read_excel('lect05-factorial.xlsx', sheet_name='Softdrink', header=0)\n",
    "softdrink_data"
   ]
  },
  {
   "cell_type": "code",
   "execution_count": 13,
   "metadata": {
    "scrolled": true
   },
   "outputs": [
    {
     "data": {
      "text/html": [
       "<div>\n",
       "<style scoped>\n",
       "    .dataframe tbody tr th:only-of-type {\n",
       "        vertical-align: middle;\n",
       "    }\n",
       "\n",
       "    .dataframe tbody tr th {\n",
       "        vertical-align: top;\n",
       "    }\n",
       "\n",
       "    .dataframe thead th {\n",
       "        text-align: right;\n",
       "    }\n",
       "</style>\n",
       "<table border=\"1\" class=\"dataframe\">\n",
       "  <thead>\n",
       "    <tr style=\"text-align: right;\">\n",
       "      <th></th>\n",
       "      <th>df</th>\n",
       "      <th>sum_sq</th>\n",
       "      <th>mean_sq</th>\n",
       "      <th>F</th>\n",
       "      <th>PR(&gt;F)</th>\n",
       "    </tr>\n",
       "  </thead>\n",
       "  <tbody>\n",
       "    <tr>\n",
       "      <th>C(Carbonation)</th>\n",
       "      <td>2.0</td>\n",
       "      <td>252.750000</td>\n",
       "      <td>126.375000</td>\n",
       "      <td>178.411765</td>\n",
       "      <td>1.186249e-09</td>\n",
       "    </tr>\n",
       "    <tr>\n",
       "      <th>C(Pressure)</th>\n",
       "      <td>1.0</td>\n",
       "      <td>45.375000</td>\n",
       "      <td>45.375000</td>\n",
       "      <td>64.058824</td>\n",
       "      <td>3.742257e-06</td>\n",
       "    </tr>\n",
       "    <tr>\n",
       "      <th>C(Linespeed)</th>\n",
       "      <td>1.0</td>\n",
       "      <td>22.041667</td>\n",
       "      <td>22.041667</td>\n",
       "      <td>31.117647</td>\n",
       "      <td>1.202174e-04</td>\n",
       "    </tr>\n",
       "    <tr>\n",
       "      <th>C(Carbonation):C(Pressure)</th>\n",
       "      <td>2.0</td>\n",
       "      <td>5.250000</td>\n",
       "      <td>2.625000</td>\n",
       "      <td>3.705882</td>\n",
       "      <td>5.580812e-02</td>\n",
       "    </tr>\n",
       "    <tr>\n",
       "      <th>C(Carbonation):C(Linespeed)</th>\n",
       "      <td>2.0</td>\n",
       "      <td>0.583333</td>\n",
       "      <td>0.291667</td>\n",
       "      <td>0.411765</td>\n",
       "      <td>6.714939e-01</td>\n",
       "    </tr>\n",
       "    <tr>\n",
       "      <th>C(Pressure):C(Linespeed)</th>\n",
       "      <td>1.0</td>\n",
       "      <td>1.041667</td>\n",
       "      <td>1.041667</td>\n",
       "      <td>1.470588</td>\n",
       "      <td>2.485867e-01</td>\n",
       "    </tr>\n",
       "    <tr>\n",
       "      <th>C(Carbonation):C(Pressure):C(Linespeed)</th>\n",
       "      <td>2.0</td>\n",
       "      <td>1.083333</td>\n",
       "      <td>0.541667</td>\n",
       "      <td>0.764706</td>\n",
       "      <td>4.868711e-01</td>\n",
       "    </tr>\n",
       "    <tr>\n",
       "      <th>Residual</th>\n",
       "      <td>12.0</td>\n",
       "      <td>8.500000</td>\n",
       "      <td>0.708333</td>\n",
       "      <td>NaN</td>\n",
       "      <td>NaN</td>\n",
       "    </tr>\n",
       "  </tbody>\n",
       "</table>\n",
       "</div>"
      ],
      "text/plain": [
       "                                           df      sum_sq     mean_sq  \\\n",
       "C(Carbonation)                            2.0  252.750000  126.375000   \n",
       "C(Pressure)                               1.0   45.375000   45.375000   \n",
       "C(Linespeed)                              1.0   22.041667   22.041667   \n",
       "C(Carbonation):C(Pressure)                2.0    5.250000    2.625000   \n",
       "C(Carbonation):C(Linespeed)               2.0    0.583333    0.291667   \n",
       "C(Pressure):C(Linespeed)                  1.0    1.041667    1.041667   \n",
       "C(Carbonation):C(Pressure):C(Linespeed)   2.0    1.083333    0.541667   \n",
       "Residual                                 12.0    8.500000    0.708333   \n",
       "\n",
       "                                                  F        PR(>F)  \n",
       "C(Carbonation)                           178.411765  1.186249e-09  \n",
       "C(Pressure)                               64.058824  3.742257e-06  \n",
       "C(Linespeed)                              31.117647  1.202174e-04  \n",
       "C(Carbonation):C(Pressure)                 3.705882  5.580812e-02  \n",
       "C(Carbonation):C(Linespeed)                0.411765  6.714939e-01  \n",
       "C(Pressure):C(Linespeed)                   1.470588  2.485867e-01  \n",
       "C(Carbonation):C(Pressure):C(Linespeed)    0.764706  4.868711e-01  \n",
       "Residual                                        NaN           NaN  "
      ]
     },
     "execution_count": 13,
     "metadata": {},
     "output_type": "execute_result"
    }
   ],
   "source": [
    "from statsmodels.formula.api import ols\n",
    "from statsmodels.stats.anova import anova_lm\n",
    "\n",
    "formula = 'Filldeviation ~ C(Carbonation) + C(Pressure) + C(Linespeed) + C(Carbonation):C(Pressure) + \\\n",
    "C(Carbonation):C(Linespeed) + C(Pressure):C(Linespeed) + C(Carbonation):C(Pressure):C(Linespeed)'\n",
    "mdl = ols(formula, data=softdrink_data).fit()\n",
    "aov_table = anova_lm(mdl) \n",
    "aov_table"
   ]
  },
  {
   "cell_type": "markdown",
   "metadata": {},
   "source": [
    "### Main and interaction effect plots"
   ]
  },
  {
   "cell_type": "markdown",
   "metadata": {},
   "source": [
    "\n"
   ]
  },
  {
   "cell_type": "code",
   "execution_count": 68,
   "metadata": {},
   "outputs": [
    {
     "data": {
      "text/plain": [
       "[<matplotlib.lines.Line2D at 0x1dc5ce5b2b0>]"
      ]
     },
     "execution_count": 68,
     "metadata": {},
     "output_type": "execute_result"
    },
    {
     "data": {
      "text/plain": [
       "Text(0.5, 0, 'Carbonation (A)')"
      ]
     },
     "execution_count": 68,
     "metadata": {},
     "output_type": "execute_result"
    },
    {
     "data": {
      "text/plain": [
       "Text(0, 0.5, 'Average fill deviation')"
      ]
     },
     "execution_count": 68,
     "metadata": {},
     "output_type": "execute_result"
    },
    {
     "data": {
      "text/plain": [
       "[<matplotlib.lines.Line2D at 0x1dc5ce5bc70>]"
      ]
     },
     "execution_count": 68,
     "metadata": {},
     "output_type": "execute_result"
    },
    {
     "data": {
      "text/plain": [
       "Text(0.5, 0, 'Pressure (B)')"
      ]
     },
     "execution_count": 68,
     "metadata": {},
     "output_type": "execute_result"
    },
    {
     "data": {
      "text/plain": [
       "Text(0, 0.5, 'Average fill deviation')"
      ]
     },
     "execution_count": 68,
     "metadata": {},
     "output_type": "execute_result"
    },
    {
     "data": {
      "text/plain": [
       "[<matplotlib.lines.Line2D at 0x1dc5ce644c0>]"
      ]
     },
     "execution_count": 68,
     "metadata": {},
     "output_type": "execute_result"
    },
    {
     "data": {
      "text/plain": [
       "Text(0.5, 0, 'Linespeed (C)')"
      ]
     },
     "execution_count": 68,
     "metadata": {},
     "output_type": "execute_result"
    },
    {
     "data": {
      "text/plain": [
       "Text(0, 0.5, 'Average fill deviation')"
      ]
     },
     "execution_count": 68,
     "metadata": {},
     "output_type": "execute_result"
    },
    {
     "data": {
      "image/png": "[encoded data removed]",
      "text/plain": [
       "<Figure size 504x576 with 4 Axes>"
      ]
     },
     "metadata": {
      "image/png": {
       "height": 479,
       "width": 431
      },
      "needs_background": "light"
     },
     "output_type": "display_data"
    }
   ],
   "source": [
    "## Create figure with four subplots inside\n",
    "# Main effect plots of Carbonation, Pressure and Linespeed (ax1, ax2, ax3)\n",
    "# Carbonation-Pressure interaction plot (ax4)\n",
    "\n",
    "f, ((ax1, ax2), (ax3, ax4)) = plt.subplots(2, 2, sharey=True, figsize=(7,8)) \n",
    "\n",
    "\n",
    "carb_effect=softdrink_data.groupby('Carbonation').aggregate({'Filldeviation':'mean'}).reset_index()\n",
    "ax1.plot(carb_effect.Carbonation.astype('str'), carb_effect.Filldeviation,\n",
    "        ms=7, marker='o', alpha=0.7)\n",
    "ax1.set_xlabel('Carbonation (A)')\n",
    "ax1.set_ylabel('Average fill deviation')\n",
    "\n",
    "pressure_effect=softdrink_data.groupby('Pressure').aggregate({'Filldeviation':'mean'}).reset_index()\n",
    "ax2.plot(pressure_effect.Pressure.astype('str'), pressure_effect.Filldeviation,\n",
    "        ms=7, marker='o', alpha=0.7)\n",
    "ax2.set_xlabel('Pressure (B)')\n",
    "ax2.set_ylabel('Average fill deviation')\n",
    "\n",
    "linespeed_effect=softdrink_data.groupby('Linespeed').aggregate({'Filldeviation':'mean'}).reset_index()\n",
    "ax3.plot(linespeed_effect.Linespeed.astype('str'), linespeed_effect.Filldeviation,\n",
    "        ms=7, marker='o', alpha=0.7)\n",
    "ax3.set_xlabel('Linespeed (C)')\n",
    "ax3.set_ylabel('Average fill deviation')\n",
    "\n",
    "ax4 = interaction_plot(softdrink_data['Carbonation'],softdrink_data['Pressure'],softdrink_data['Filldeviation'],ax=ax4)"
   ]
  },
  {
   "cell_type": "code",
   "execution_count": null,
   "metadata": {},
   "outputs": [],
   "source": []
  }
 ],
 "metadata": {
  "hide_input": false,
  "kernelspec": {
   "display_name": "Python 3 (ipykernel)",
   "language": "python",
   "name": "python3"
  },
  "language_info": {
   "codemirror_mode": {
    "name": "ipython",
    "version": 3
   },
   "file_extension": ".py",
   "mimetype": "text/x-python",
   "name": "python",
   "nbconvert_exporter": "python",
   "pygments_lexer": "ipython3",
   "version": "3.8.11"
  },
  "latex_envs": {
   "LaTeX_envs_menu_present": true,
   "autoclose": true,
   "autocomplete": true,
   "bibliofile": "biblio.bib",
   "cite_by": "apalike",
   "current_citInitial": 1,
   "eqLabelWithNumbers": true,
   "eqNumInitial": 1,
   "hotkeys": {
    "equation": "Ctrl-E",
    "itemize": "Ctrl-I"
   },
   "labels_anchors": false,
   "latex_user_defs": false,
   "report_style_numbering": true,
   "user_envs_cfg": false
  },
  "toc": {
   "base_numbering": 1,
   "nav_menu": {},
   "number_sections": true,
   "sideBar": true,
   "skip_h1_title": true,
   "title_cell": "Table of Contents",
   "title_sidebar": "Contents",
   "toc_cell": true,
   "toc_position": {},
   "toc_section_display": true,
   "toc_window_display": true
  },
  "varInspector": {
   "cols": {
    "lenName": 16,
    "lenType": 16,
    "lenVar": 40
   },
   "kernels_config": {
    "python": {
     "delete_cmd_postfix": "",
     "delete_cmd_prefix": "del ",
     "library": "var_list.py",
     "varRefreshCmd": "print(var_dic_list())"
    },
    "r": {
     "delete_cmd_postfix": ") ",
     "delete_cmd_prefix": "rm(",
     "library": "var_list.r",
     "varRefreshCmd": "cat(var_dic_list()) "
    }
   },
   "types_to_exclude": [
    "module",
    "function",
    "builtin_function_or_method",
    "instance",
    "_Feature"
   ],
   "window_display": false
  }
 },
 "nbformat": 4,
 "nbformat_minor": 4
}
